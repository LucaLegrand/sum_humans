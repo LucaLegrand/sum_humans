{
 "cells": [
  {
   "cell_type": "markdown",
   "metadata": {},
   "source": [
    "## **Cleaning and ordering ***new_people_count_12_12_2024*****"
   ]
  },
  {
   "cell_type": "code",
   "execution_count": 1,
   "metadata": {},
   "outputs": [
    {
     "data": {
      "text/html": [
       "<div>\n",
       "<style scoped>\n",
       "    .dataframe tbody tr th:only-of-type {\n",
       "        vertical-align: middle;\n",
       "    }\n",
       "\n",
       "    .dataframe tbody tr th {\n",
       "        vertical-align: top;\n",
       "    }\n",
       "\n",
       "    .dataframe thead th {\n",
       "        text-align: right;\n",
       "    }\n",
       "</style>\n",
       "<table border=\"1\" class=\"dataframe\">\n",
       "  <thead>\n",
       "    <tr style=\"text-align: right;\">\n",
       "      <th></th>\n",
       "      <th>time</th>\n",
       "      <th>Image Name</th>\n",
       "      <th>Number of People</th>\n",
       "    </tr>\n",
       "  </thead>\n",
       "  <tbody>\n",
       "    <tr>\n",
       "      <th>2023</th>\n",
       "      <td>2024-12-12 06:50:00</td>\n",
       "      <td>2024-12-12-06-50-image.png</td>\n",
       "      <td>0</td>\n",
       "    </tr>\n",
       "    <tr>\n",
       "      <th>286</th>\n",
       "      <td>2024-12-12 06:40:00</td>\n",
       "      <td>2024-12-12-06-40-image.png</td>\n",
       "      <td>0</td>\n",
       "    </tr>\n",
       "    <tr>\n",
       "      <th>363</th>\n",
       "      <td>2024-12-12 06:30:00</td>\n",
       "      <td>2024-12-12-06-30-image.png</td>\n",
       "      <td>0</td>\n",
       "    </tr>\n",
       "    <tr>\n",
       "      <th>3289</th>\n",
       "      <td>2024-12-12 06:20:00</td>\n",
       "      <td>2024-12-12-06-20-image.png</td>\n",
       "      <td>0</td>\n",
       "    </tr>\n",
       "    <tr>\n",
       "      <th>2968</th>\n",
       "      <td>2024-12-12 06:10:00</td>\n",
       "      <td>2024-12-12-06-10-image.png</td>\n",
       "      <td>0</td>\n",
       "    </tr>\n",
       "  </tbody>\n",
       "</table>\n",
       "</div>"
      ],
      "text/plain": [
       "                    time                  Image Name  Number of People\n",
       "2023 2024-12-12 06:50:00  2024-12-12-06-50-image.png                 0\n",
       "286  2024-12-12 06:40:00  2024-12-12-06-40-image.png                 0\n",
       "363  2024-12-12 06:30:00  2024-12-12-06-30-image.png                 0\n",
       "3289 2024-12-12 06:20:00  2024-12-12-06-20-image.png                 0\n",
       "2968 2024-12-12 06:10:00  2024-12-12-06-10-image.png                 0"
      ]
     },
     "execution_count": 1,
     "metadata": {},
     "output_type": "execute_result"
    }
   ],
   "source": [
    "import pandas as pd\n",
    "import numpy as np\n",
    "\n",
    "people_count = pd.read_csv(\"new_people_count_12_12_2024.csv\")\n",
    "\n",
    "# Convert the 'time' column to datetime for accurate sorting\n",
    "people_count['time'] = pd.to_datetime(people_count['time'])\n",
    "\n",
    "# Sort the DataFrame in descending order by 'time'\n",
    "people_count_sorted = people_count.sort_values(by='time', ascending=False)\n",
    "\n",
    "people_count_sorted.to_csv(\"new_people_count_12_12_2024.csv\", index=False)\n",
    "\n",
    "people_count_sorted.head()"
   ]
  },
  {
   "cell_type": "code",
   "execution_count": 2,
   "metadata": {},
   "outputs": [
    {
     "name": "stdout",
     "output_type": "stream",
     "text": [
      "Number of rows where 'Number of People' is 0: 4185\n"
     ]
    }
   ],
   "source": [
    "# Count the rows where 'Number of People' equals 0\n",
    "count_zero_people = (people_count['Number of People'] == 0).sum()\n",
    "\n",
    "# Display the count\n",
    "print(f\"Number of rows where 'Number of People' is 0: {count_zero_people}\")"
   ]
  },
  {
   "cell_type": "markdown",
   "metadata": {},
   "source": [
    "## **Cleaning and ordering ***all_sensor_data_12_12_2024.csv*****"
   ]
  },
  {
   "cell_type": "code",
   "execution_count": 3,
   "metadata": {},
   "outputs": [
    {
     "data": {
      "text/html": [
       "<div>\n",
       "<style scoped>\n",
       "    .dataframe tbody tr th:only-of-type {\n",
       "        vertical-align: middle;\n",
       "    }\n",
       "\n",
       "    .dataframe tbody tr th {\n",
       "        vertical-align: top;\n",
       "    }\n",
       "\n",
       "    .dataframe thead th {\n",
       "        text-align: right;\n",
       "    }\n",
       "</style>\n",
       "<table border=\"1\" class=\"dataframe\">\n",
       "  <thead>\n",
       "    <tr style=\"text-align: right;\">\n",
       "      <th></th>\n",
       "      <th>time</th>\n",
       "      <th>co2_value</th>\n",
       "      <th>sound_value</th>\n",
       "      <th>ventilation_value</th>\n",
       "    </tr>\n",
       "  </thead>\n",
       "  <tbody>\n",
       "    <tr>\n",
       "      <th>0</th>\n",
       "      <td>2024-11-24 16:50:00</td>\n",
       "      <td>401.0</td>\n",
       "      <td>38.0</td>\n",
       "      <td>0</td>\n",
       "    </tr>\n",
       "    <tr>\n",
       "      <th>1</th>\n",
       "      <td>2024-11-14 17:00:00</td>\n",
       "      <td>503.0</td>\n",
       "      <td>48.0</td>\n",
       "      <td>0</td>\n",
       "    </tr>\n",
       "    <tr>\n",
       "      <th>2</th>\n",
       "      <td>2024-11-14 16:50:00</td>\n",
       "      <td>551.0</td>\n",
       "      <td>48.0</td>\n",
       "      <td>0</td>\n",
       "    </tr>\n",
       "    <tr>\n",
       "      <th>3</th>\n",
       "      <td>2024-11-14 16:40:00</td>\n",
       "      <td>579.0</td>\n",
       "      <td>48.0</td>\n",
       "      <td>0</td>\n",
       "    </tr>\n",
       "    <tr>\n",
       "      <th>4</th>\n",
       "      <td>2024-11-14 16:30:00</td>\n",
       "      <td>633.0</td>\n",
       "      <td>47.0</td>\n",
       "      <td>0</td>\n",
       "    </tr>\n",
       "  </tbody>\n",
       "</table>\n",
       "</div>"
      ],
      "text/plain": [
       "                 time  co2_value  sound_value  ventilation_value\n",
       "0 2024-11-24 16:50:00      401.0         38.0                  0\n",
       "1 2024-11-14 17:00:00      503.0         48.0                  0\n",
       "2 2024-11-14 16:50:00      551.0         48.0                  0\n",
       "3 2024-11-14 16:40:00      579.0         48.0                  0\n",
       "4 2024-11-14 16:30:00      633.0         47.0                  0"
      ]
     },
     "execution_count": 3,
     "metadata": {},
     "output_type": "execute_result"
    }
   ],
   "source": [
    "sensor_data = pd.read_csv(\"all_sensor_data_12_12_2024.csv\")\n",
    "\n",
    "# Rename the 'rounded_time' column to 'time'\n",
    "sensor_data.rename(columns={\"rounded_time\": \"time\"}, inplace=True)\n",
    "\n",
    "# Convert 'time' column to datetime\n",
    "sensor_data['time'] = pd.to_datetime(sensor_data['time'])\n",
    "\n",
    "# Filter out rows where both 'co2_value' and 'sound_value' are 0\n",
    "sensor_data_filtered = sensor_data[(sensor_data['co2_value'] != 0) | (sensor_data['sound_value'] != 0)]\n",
    "\n",
    "# Sort the DataFrame in descending order by 'time'\n",
    "sensor_data_sorted = sensor_data_filtered.sort_values(by='time', ascending=False)\n",
    "\n",
    "sensor_data_sorted.to_csv(\"cleaned_all_sensor_data_12_12_2024.csv\", index=False)\n",
    "\n",
    "# Display the sorted DataFrame\n",
    "sensor_data_sorted.head()"
   ]
  }
 ],
 "metadata": {
  "kernelspec": {
   "display_name": "Python 3",
   "language": "python",
   "name": "python3"
  },
  "language_info": {
   "codemirror_mode": {
    "name": "ipython",
    "version": 3
   },
   "file_extension": ".py",
   "mimetype": "text/x-python",
   "name": "python",
   "nbconvert_exporter": "python",
   "pygments_lexer": "ipython3",
   "version": "3.10.3"
  }
 },
 "nbformat": 4,
 "nbformat_minor": 2
}
